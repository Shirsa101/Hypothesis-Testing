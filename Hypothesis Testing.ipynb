{
 "cells": [
  {
   "cell_type": "code",
   "execution_count": 2,
   "id": "9f46467e-a3cf-4ffa-a938-2169143e0873",
   "metadata": {},
   "outputs": [],
   "source": [
    "import numpy as np\n",
    "import pandas as pd\n",
    "from scipy import stats"
   ]
  },
  {
   "cell_type": "code",
   "execution_count": 3,
   "id": "c84078c7-ad35-4cb0-80f7-80d7fa6991d1",
   "metadata": {},
   "outputs": [],
   "source": [
    "education_districtwise = pd.read_csv(r\"C:\\Users\\shirs\\Desktop\\education_districtwise.csv\")\n",
    "education_districtwise = education_districtwise.dropna()"
   ]
  },
  {
   "cell_type": "code",
   "execution_count": 4,
   "id": "9ce3643b-dc32-47dc-993e-29db54ac16a0",
   "metadata": {},
   "outputs": [],
   "source": [
    "# To start, filter your dataframe for the district literacy rate data from the states STATE21 and STATE28.\n",
    "\n",
    "state21 = education_districtwise[education_districtwise['STATNAME'] == 'STATE21']\n",
    "state28 = education_districtwise[education_districtwise['STATNAME'] == 'STATE28']"
   ]
  },
  {
   "cell_type": "markdown",
   "id": "72f5b194-1ada-4dbf-905a-bc6cb09e7e2d",
   "metadata": {},
   "source": [
    "Simulate random sampling\n",
    "Now that you have organized your data, use the sample() function to take a random sample of 20 districts from each state. First, name a new variable: sampled_state21. Then, enter the arguments of the sample() function.\n",
    "\n",
    "n: Your sample size is 20.\n",
    "\n",
    "replace: Choose True because you are sampling with replacement.\n",
    "\n",
    "random_state: Choose an arbitrary number for the random seed – how about 13490. "
   ]
  },
  {
   "cell_type": "code",
   "execution_count": 5,
   "id": "359d3297-3f5e-42c3-8c2a-94f972cafdad",
   "metadata": {},
   "outputs": [],
   "source": [
    "sampled_state21 = state21.sample(n=20, random_state=13490, replace=True)\n",
    "sampled_state28 = state28.sample(n=20, random_state=39103, replace=True)"
   ]
  },
  {
   "cell_type": "code",
   "execution_count": 6,
   "id": "fad569bc-8a80-48eb-af22-043f9ed7ad8b",
   "metadata": {},
   "outputs": [
    {
     "data": {
      "text/plain": [
       "70.82900000000001"
      ]
     },
     "execution_count": 6,
     "metadata": {},
     "output_type": "execute_result"
    }
   ],
   "source": [
    "# computing the sample literacy rate means\n",
    "sampled_state21['OVERALL_LI'].mean()"
   ]
  },
  {
   "cell_type": "code",
   "execution_count": 7,
   "id": "91fba80a-ba6b-46db-94bf-9e532a0aa10b",
   "metadata": {},
   "outputs": [
    {
     "data": {
      "text/plain": [
       "64.60100000000001"
      ]
     },
     "execution_count": 7,
     "metadata": {},
     "output_type": "execute_result"
    }
   ],
   "source": [
    "sampled_state28['OVERALL_LI'].mean()"
   ]
  },
  {
   "cell_type": "markdown",
   "id": "691b6eec-e351-4247-9fa8-71ef49faaf8e",
   "metadata": {},
   "source": [
    "Conduct a hypothesis test to help determine if your results are statistically significant or not\n",
    "\n",
    "Steps :\n",
    "1. State the null hypothesis and the alternative hypothesis\n",
    "2. Choose a significance level\n",
    "3. Find the p-value\n",
    "4. Reject or fail to reject the null hypothesis"
   ]
  },
  {
   "cell_type": "markdown",
   "id": "3ad38a97-279c-4fb0-9d05-c8fc6396b441",
   "metadata": {},
   "source": [
    "1. Null : There is no difference in the mean district literacy rates between State 21 and State 28\n",
    " Alternative : There is a difference in the mean literacy rates between State 21 and State 28."
   ]
  },
  {
   "cell_type": "markdown",
   "id": "7115e8f6-3dea-4941-8eb6-9b59362217c8",
   "metadata": {},
   "source": [
    "2. Choose a significance level ( the threshold at which you will consider a result statistically significant\n",
    "5% or 0.05%"
   ]
  },
  {
   "cell_type": "markdown",
   "id": "3e9062f7-035b-4ed8-8bc6-831cdc429aea",
   "metadata": {},
   "source": [
    "3. Find the p-value\n",
    "In this case, p-value is the probability of observing a difference in your sample means as or more extreme than the difference observed\n",
    "when the null hypothesis is true\n",
    "\n",
    "Based on your sample data, the difference between the mean district literacy rates of STATE21 and STATE28 is 6.2 percentage points.\n",
    "Your null hypothesis claims that this difference is due to chance. Your p-value is the probability of observing an absolute difference in \n",
    "sample means that is 6.2 or greater if the null hypothesis is true. If the probability of this outcome is very unlikely—in particular,\n",
    "if your p-value is less than your significance level of 5%— then you will reject the null hypothesis.\n",
    "\n",
    "to calculate p-value use : scipy.stats.ttest_ind(a,b,equal_var)\n",
    "\n",
    "a : Observations from the first sample\n",
    "\n",
    "b : Observations from the second sample \n",
    "\n",
    "equal_var : A boolean, or true/false statement , which indicates whether the population variance of the two samples is assumed to be equal.\n",
    "            In this example, we don't have access to data for the entire population, so we don't want to assume anything about the variance.\n",
    "            To avoid making a wrong assumption, set this argument to False. \n",
    "\n"
   ]
  },
  {
   "cell_type": "code",
   "execution_count": 8,
   "id": "e12e5650-0053-44e5-9cd9-26124b60e3ce",
   "metadata": {},
   "outputs": [
    {
     "data": {
      "text/plain": [
       "TtestResult(statistic=2.8980444277268735, pvalue=0.006421719142765237, df=35.20796133045557)"
      ]
     },
     "execution_count": 8,
     "metadata": {},
     "output_type": "execute_result"
    }
   ],
   "source": [
    "stats.ttest_ind(a=sampled_state21[\"OVERALL_LI\"], b=sampled_state28[\"OVERALL_LI\"], equal_var=False)"
   ]
  },
  {
   "cell_type": "markdown",
   "id": "d8955a15-97c5-4cb3-81b7-3c35d7f3d73f",
   "metadata": {},
   "source": [
    "Your p-value is about 0.0064, or 0.64%.\n",
    "\n",
    "This means there is only a 0.64% probability that the absolute difference between the two mean district literacy rates would be 6.2 percentage points\n",
    "or greater if the null hypothesis were true. In other words, it’s highly unlikely that the difference in the two means is due to chance."
   ]
  },
  {
   "cell_type": "markdown",
   "id": "7b7e5005-8e34-449b-9686-62a0b8e52e28",
   "metadata": {},
   "source": [
    "Draw a conclusion\n",
    "\n",
    "If p-value < significance level : reject the null hypothesis\n",
    "    -> statistically significant difference in literacy rate\n",
    "\n",
    "If p-value > significance level : fail to reject the null hypothesis\n",
    "    -> difference in literacy rate due to chance"
   ]
  },
  {
   "cell_type": "markdown",
   "id": "d6588684-ad63-44dc-b4aa-987e0df87b9b",
   "metadata": {},
   "source": [
    "p-value : 0.64%\n",
    "significance level is 5%\n",
    "\n",
    "0.64 % < 5%\n",
    "\n",
    "CONCLUSION : REJECT THE NULL HYPOTHESIS\n",
    "There is statistically significant difference in literacy rates"
   ]
  }
 ],
 "metadata": {
  "kernelspec": {
   "display_name": "Python 3 (ipykernel)",
   "language": "python",
   "name": "python3"
  },
  "language_info": {
   "codemirror_mode": {
    "name": "ipython",
    "version": 3
   },
   "file_extension": ".py",
   "mimetype": "text/x-python",
   "name": "python",
   "nbconvert_exporter": "python",
   "pygments_lexer": "ipython3",
   "version": "3.11.3"
  }
 },
 "nbformat": 4,
 "nbformat_minor": 5
}
